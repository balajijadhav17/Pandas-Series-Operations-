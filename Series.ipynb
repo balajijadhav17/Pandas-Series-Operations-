{
 "cells": [
  {
   "cell_type": "markdown",
   "id": "eab9bb19-9d38-4370-8c31-1f0377d7e8c6",
   "metadata": {},
   "source": [
    "# Introduction to Series in Pandas"
   ]
  },
  {
   "cell_type": "code",
   "execution_count": 3,
   "id": "cfe5ae76-378e-4a9e-9530-91657e25aac2",
   "metadata": {},
   "outputs": [],
   "source": [
    "import pandas as pd   # importing pandas library"
   ]
  },
  {
   "cell_type": "markdown",
   "id": "d307292f-d504-4da5-b073-231bbb533b74",
   "metadata": {},
   "source": [
    "# Creating a Series"
   ]
  },
  {
   "cell_type": "code",
   "execution_count": 18,
   "id": "abb664de-ba65-4c65-9cd1-059d0a2c9947",
   "metadata": {},
   "outputs": [
    {
     "name": "stdout",
     "output_type": "stream",
     "text": [
      "0    1\n",
      "1    2\n",
      "2    3\n",
      "3    4\n",
      "4    5\n",
      "5    6\n",
      "6    7\n",
      "dtype: int64\n"
     ]
    }
   ],
   "source": [
    "# Using list\n",
    "d1=[1,2,3,4,5,6,7]\n",
    "df=pd.Series(d1)\n",
    "print(df)  # access series"
   ]
  },
  {
   "cell_type": "code",
   "execution_count": 20,
   "id": "b10bd12d-fe33-4000-908f-5e076d27551a",
   "metadata": {},
   "outputs": [
    {
     "name": "stdout",
     "output_type": "stream",
     "text": [
      "a    11\n",
      "b    22\n",
      "c    33\n",
      "d    55\n",
      "dtype: int64\n"
     ]
    }
   ],
   "source": [
    "# Using Dictionary\n",
    "d2={\"a\":11,\"b\":22,\"c\":33,\"d\":55}\n",
    "df1=pd.Series(d2)\n",
    "print(df1) # access series"
   ]
  },
  {
   "cell_type": "code",
   "execution_count": 152,
   "id": "ac0e6170-9eff-45b5-9d58-d9fab8c1662c",
   "metadata": {},
   "outputs": [
    {
     "name": "stdout",
     "output_type": "stream",
     "text": [
      "rahul        66.0\n",
      "riya         55.0\n",
      "sham         88.0\n",
      "kunal        45.0\n",
      "ram          76.0\n",
      "arjun        98.0\n",
      "datta        67.0\n",
      "batti        87.0\n",
      "mira         51.0\n",
      "nanda        89.0\n",
      "switi        56.0\n",
      "manohar      86.0\n",
      "atul         43.0\n",
      "ashwin       65.0\n",
      "balaji       44.0\n",
      "kavita        NaN\n",
      "balaji       88.0\n",
      "kumar         NaN\n",
      "nayan         NaN\n",
      "praghya       NaN\n",
      "sanyukt      35.0\n",
      "ramkishan    69.0\n",
      "krishna       NaN\n",
      "Name: Student exam detail Mark and Name, dtype: float64\n",
      "Student exam detail Mark and Name\n"
     ]
    }
   ],
   "source": [
    "marks=[66,55,88,45,76,98,67,87,51,89,56,86,43,65,44,None,88,None,None,None,35,69,None]  \n",
    "name=[\"rahul\",\"riya\",\"sham\",\"kunal\",\"ram\",\n",
    "      \"arjun\",\"datta\",\"batti\",\"mira\",\"nanda\",\"switi\",\"manohar\",\"atul\",\"ashwin\",\"balaji\",\"kavita\",\"balaji\",\"kumar\",\n",
    "      \"nayan\",\"praghya\",\"sanyukt\",\"ramkishan\",\"krishna\"]\n",
    "df=pd.Series(marks,name)\n",
    "df.name=\"Student exam detail Mark and Name\"\n",
    "print(df)\n",
    "print(df.name) # name function is used to label the info about data\n",
    "# Note : \"None\" means null value or absent values"
   ]
  },
  {
   "cell_type": "code",
   "execution_count": 173,
   "id": "0d653387-8da7-4ffe-bfa0-c1178567ee85",
   "metadata": {},
   "outputs": [
    {
     "name": "stdout",
     "output_type": "stream",
     "text": [
      "rahul    66.0\n",
      "riya     55.0\n",
      "sham     88.0\n",
      "kunal    45.0\n",
      "ram      76.0\n",
      "dtype: float64\n",
      "\n",
      "ashwin       65.000000\n",
      "balaji       44.000000\n",
      "kavita       67.111111\n",
      "sanyukt      35.000000\n",
      "ramkishan    69.000000\n",
      "dtype: float64\n",
      "\n",
      "(18,)\n",
      "\n",
      "18\n",
      "\n",
      "False\n",
      "\n",
      "1\n"
     ]
    }
   ],
   "source": [
    "\"\"\" df.head(n): Returns the first n elements.\n",
    "df.tail(n): Returns the last n elements.\n",
    "df.shape: Returns the shape of the Series.\n",
    "df.size: Returns the number of elements in the Series.\n",
    "df.empty: Checks if the Series is empty.\n",
    "df.ndim: Returns the number of dimensions (always 1 for Series). \"\"\"\n",
    "print(df.head())\n",
    "print()\n",
    "print(df.tail())\n",
    "print()\n",
    "print(df.shape)\n",
    "print()\n",
    "print(df.size)\n",
    "print()\n",
    "print(df.empty)\n",
    "print()\n",
    "print(df.ndim)\n",
    "\n"
   ]
  },
  {
   "cell_type": "markdown",
   "id": "71eea08b-ab50-482b-8c56-0b0214d80cef",
   "metadata": {},
   "source": [
    "# Access the Series element using \"loc\" and \"iloc\" function"
   ]
  },
  {
   "cell_type": "code",
   "execution_count": 153,
   "id": "3c375b17-de2b-4940-90d9-40bf9ccb094c",
   "metadata": {},
   "outputs": [
    {
     "name": "stdout",
     "output_type": "stream",
     "text": [
      "76.0\n",
      "\n",
      "ram      76.0\n",
      "arjun    98.0\n",
      "datta    67.0\n",
      "batti    87.0\n",
      "mira     51.0\n",
      "nanda    89.0\n",
      "dtype: float64\n"
     ]
    }
   ],
   "source": [
    "# 1. loc access the element label  wise\n",
    "marks=[66,55,88,45,76,98,67,87,51,89,56,86,43,65,44,None,88,None,None,None,35,69,None]  \n",
    "name=[\"rahul\",\"riya\",\"sham\",\"kunal\",\"ram\",\n",
    "      \"arjun\",\"datta\",\"batti\",\"mira\",\"nanda\",\"switi\",\"manohar\",\"atul\",\"ashwin\",\"balaji\",\"kavita\",\"balaji\",\"kumar\",\n",
    "      \"nayan\",\"praghya\",\"sanyukt\",\"ramkishan\",\"krishna\"]\n",
    "df=pd.Series(marks,name)\n",
    "print(df.loc[\"ram\"]) # Access single element\n",
    "print()\n",
    "print(df.loc[\"ram\":\"nanda\"]) # Multiple element access Slicing\n",
    "\n"
   ]
  },
  {
   "cell_type": "code",
   "execution_count": 154,
   "id": "10c9d30c-d720-497f-af71-97506e79ac97",
   "metadata": {},
   "outputs": [
    {
     "name": "stdout",
     "output_type": "stream",
     "text": [
      "51.0\n",
      "\n",
      "datta    67.0\n",
      "batti    87.0\n",
      "mira     51.0\n",
      "dtype: float64\n"
     ]
    }
   ],
   "source": [
    "# 2. iloc acces the element position wise\n",
    "marks=[66,55,88,45,76,98,67,87,51,89,56,86,43,65,44,None,88,None,None,None,35,69,None]  \n",
    "name=[\"rahul\",\"riya\",\"sham\",\"kunal\",\"ram\",\n",
    "      \"arjun\",\"datta\",\"batti\",\"mira\",\"nanda\",\"switi\",\"manohar\",\"atul\",\"ashwin\",\"balaji\",\"kavita\",\"balaji\",\"kumar\",\n",
    "      \"nayan\",\"praghya\",\"sanyukt\",\"ramkishan\",\"krishna\"]\n",
    "df=pd.Series(marks,name)\n",
    "print(df.iloc[8]) # Access single element\n",
    "print()\n",
    "print(df.iloc[6:9]) # Multiple element access Slicing\n",
    "\n"
   ]
  },
  {
   "cell_type": "markdown",
   "id": "7de57e4f-a3ae-4bb1-a342-49fc5a17e72f",
   "metadata": {},
   "source": [
    "# Getting the Information about Series Using \"info()\" function"
   ]
  },
  {
   "cell_type": "code",
   "execution_count": 155,
   "id": "9af4f2af-0d74-4aa5-9705-47b720cff51c",
   "metadata": {},
   "outputs": [
    {
     "name": "stdout",
     "output_type": "stream",
     "text": [
      "<class 'pandas.core.series.Series'>\n",
      "Index: 23 entries, rahul to krishna\n",
      "Series name: None\n",
      "Non-Null Count  Dtype  \n",
      "--------------  -----  \n",
      "18 non-null     float64\n",
      "dtypes: float64(1)\n",
      "memory usage: 368.0+ bytes\n"
     ]
    }
   ],
   "source": [
    "df.info()"
   ]
  },
  {
   "cell_type": "markdown",
   "id": "dfb2565f-a544-42e1-9c2e-7ea329e06c54",
   "metadata": {},
   "source": [
    "# Getting the Statical info about Series Using \"describe()\" function"
   ]
  },
  {
   "cell_type": "code",
   "execution_count": 156,
   "id": "2c122faa-6de4-4e95-aa28-eba579e026f0",
   "metadata": {},
   "outputs": [
    {
     "data": {
      "text/plain": [
       "count    18.000000\n",
       "mean     67.111111\n",
       "std      19.268654\n",
       "min      35.000000\n",
       "25%      52.000000\n",
       "50%      66.500000\n",
       "75%      86.750000\n",
       "max      98.000000\n",
       "dtype: float64"
      ]
     },
     "execution_count": 156,
     "metadata": {},
     "output_type": "execute_result"
    }
   ],
   "source": [
    "df.describe()"
   ]
  },
  {
   "cell_type": "code",
   "execution_count": 157,
   "id": "5bef25e8-6368-427e-9da6-934cea6f62ba",
   "metadata": {},
   "outputs": [
    {
     "name": "stdout",
     "output_type": "stream",
     "text": [
      "float64\n",
      "\n",
      "[66. 55. 88. 45. 76. 98. 67. 87. 51. 89. 56. 86. 43. 65. 44. nan 88. nan\n",
      " nan nan 35. 69. nan]\n",
      "\n",
      "Index(['rahul', 'riya', 'sham', 'kunal', 'ram', 'arjun', 'datta', 'batti',\n",
      "       'mira', 'nanda', 'switi', 'manohar', 'atul', 'ashwin', 'balaji',\n",
      "       'kavita', 'balaji', 'kumar', 'nayan', 'praghya', 'sanyukt', 'ramkishan',\n",
      "       'krishna'],\n",
      "      dtype='object')\n"
     ]
    }
   ],
   "source": [
    "print(df.dtype)  # The index (labels) of the Series.\n",
    "print()\n",
    "print(df.values)  # The data (values) of the Series.\n",
    "print()\n",
    "print(df.index)  # The data type of the Series."
   ]
  },
  {
   "cell_type": "markdown",
   "id": "fcf2dd3a-0729-4167-ad4c-9ba0723edc23",
   "metadata": {},
   "source": [
    "# To check null or Nan value present in the Series Using \"isnull()\" function"
   ]
  },
  {
   "cell_type": "code",
   "execution_count": 158,
   "id": "fde8dd09-89c0-4a21-b998-c0bfcdbb4f90",
   "metadata": {},
   "outputs": [
    {
     "data": {
      "text/plain": [
       "5"
      ]
     },
     "execution_count": 158,
     "metadata": {},
     "output_type": "execute_result"
    }
   ],
   "source": [
    "df.isnull().sum() # This is return total sum of null values"
   ]
  },
  {
   "cell_type": "code",
   "execution_count": 159,
   "id": "1fad6e1c-70a8-4984-8867-73448623a36b",
   "metadata": {},
   "outputs": [
    {
     "data": {
      "text/plain": [
       "rahul        False\n",
       "riya         False\n",
       "sham         False\n",
       "kunal        False\n",
       "ram          False\n",
       "arjun        False\n",
       "datta        False\n",
       "batti        False\n",
       "mira         False\n",
       "nanda        False\n",
       "switi        False\n",
       "manohar      False\n",
       "atul         False\n",
       "ashwin       False\n",
       "balaji       False\n",
       "kavita        True\n",
       "balaji       False\n",
       "kumar         True\n",
       "nayan         True\n",
       "praghya       True\n",
       "sanyukt      False\n",
       "ramkishan    False\n",
       "krishna       True\n",
       "dtype: bool"
      ]
     },
     "execution_count": 159,
     "metadata": {},
     "output_type": "execute_result"
    }
   ],
   "source": [
    "df.isnull() # This is return true or false \"True\" means value is null or NaN And \"False\" means value is not null"
   ]
  },
  {
   "cell_type": "code",
   "execution_count": 160,
   "id": "2dc190f9-2abc-4805-9ce4-16a6950f4d75",
   "metadata": {},
   "outputs": [
    {
     "data": {
      "text/plain": [
       "kavita    NaN\n",
       "kumar     NaN\n",
       "nayan     NaN\n",
       "praghya   NaN\n",
       "krishna   NaN\n",
       "dtype: float64"
      ]
     },
     "execution_count": 160,
     "metadata": {},
     "output_type": "execute_result"
    }
   ],
   "source": [
    "# Now just print null or Nan rows the below is Nan rows\n",
    "df[df.isnull()]"
   ]
  },
  {
   "cell_type": "markdown",
   "id": "1300d366-b14c-49d5-9530-1ea5988b18e5",
   "metadata": {},
   "source": [
    "# Fill NaN or null Values"
   ]
  },
  {
   "cell_type": "code",
   "execution_count": 161,
   "id": "06192671-58c6-4133-8c68-ad3b3ca6a2fd",
   "metadata": {},
   "outputs": [],
   "source": [
    "\"\"\" 1. Fill with a Constant Value - df.fillna(0)\n",
    "    2. Forward Fill (method='ffill')\n",
    "    3. Backward Fill (method='bfill')\n",
    "    4. Fill Using Interpolation (method='interpolate')\n",
    "    5. Fill with a Value Dict or Series\n",
    "    6. Fill with Mean, Median, or Mode - df.fillna(df.mean())\n",
    "    7. Limiting the Number of Fills - filled = s.fillna(method='ffill', limit=1)\n",
    "    8. Fill in Place - df.fillna(0, inplace=True) \"\"\"\n",
    "df.fillna(df.mean(),inplace=True)"
   ]
  },
  {
   "cell_type": "code",
   "execution_count": 162,
   "id": "4db0e35a-2fb7-4693-9262-1155011d1f94",
   "metadata": {},
   "outputs": [
    {
     "data": {
      "text/plain": [
       "0"
      ]
     },
     "execution_count": 162,
     "metadata": {},
     "output_type": "execute_result"
    }
   ],
   "source": [
    "# After filling now check the NaN value show O Zero\n",
    "df.isnull().sum()"
   ]
  },
  {
   "cell_type": "markdown",
   "id": "9776242e-bb6e-4d80-bc8a-3a117669ce63",
   "metadata": {},
   "source": [
    "# To check duplicate rows  present in the Series Using \"duplicated()\" function"
   ]
  },
  {
   "cell_type": "code",
   "execution_count": 163,
   "id": "80760dd8-d388-4a38-9cbd-ca50bc97da20",
   "metadata": {},
   "outputs": [
    {
     "data": {
      "text/plain": [
       "5"
      ]
     },
     "execution_count": 163,
     "metadata": {},
     "output_type": "execute_result"
    }
   ],
   "source": [
    "df.duplicated().sum() # This is return total sum of duplicated rows"
   ]
  },
  {
   "cell_type": "code",
   "execution_count": 164,
   "id": "0b01a941-8843-4a72-b628-2301956b25d1",
   "metadata": {},
   "outputs": [
    {
     "data": {
      "text/plain": [
       "rahul        False\n",
       "riya         False\n",
       "sham         False\n",
       "kunal        False\n",
       "ram          False\n",
       "arjun        False\n",
       "datta        False\n",
       "batti        False\n",
       "mira         False\n",
       "nanda        False\n",
       "switi        False\n",
       "manohar      False\n",
       "atul         False\n",
       "ashwin       False\n",
       "balaji       False\n",
       "kavita       False\n",
       "balaji        True\n",
       "kumar         True\n",
       "nayan         True\n",
       "praghya       True\n",
       "sanyukt      False\n",
       "ramkishan    False\n",
       "krishna       True\n",
       "dtype: bool"
      ]
     },
     "execution_count": 164,
     "metadata": {},
     "output_type": "execute_result"
    }
   ],
   "source": [
    "df.duplicated() # This is return true or false \"True\" means row is duplicated And \"False\" means row is not duplicated "
   ]
  },
  {
   "cell_type": "code",
   "execution_count": 165,
   "id": "5f3a9703-9a0a-49f3-b307-bcbfa23a53b1",
   "metadata": {},
   "outputs": [
    {
     "name": "stdout",
     "output_type": "stream",
     "text": [
      "balaji     88.000000\n",
      "kumar      67.111111\n",
      "nayan      67.111111\n",
      "praghya    67.111111\n",
      "krishna    67.111111\n",
      "dtype: float64\n"
     ]
    }
   ],
   "source": [
    "# Now just print duplicated rows the below row is duplicated rows\n",
    "print(df[df.duplicated()])"
   ]
  },
  {
   "cell_type": "markdown",
   "id": "1f321f04-a6ac-490b-bc76-dab3a10f2de8",
   "metadata": {},
   "source": [
    "# Drop Duplicated rows using \"drop_duplicates()\""
   ]
  },
  {
   "cell_type": "code",
   "execution_count": 166,
   "id": "197be520-36d8-49a4-bc05-717eb794b756",
   "metadata": {},
   "outputs": [],
   "source": [
    "df.drop_duplicates(inplace=True)"
   ]
  },
  {
   "cell_type": "code",
   "execution_count": 167,
   "id": "35ba3f39-8b61-40e9-8319-407c38252ff1",
   "metadata": {},
   "outputs": [
    {
     "data": {
      "text/plain": [
       "0"
      ]
     },
     "execution_count": 167,
     "metadata": {},
     "output_type": "execute_result"
    }
   ],
   "source": [
    "# now check after cdropping duplicates now aslo show Zero\n",
    "df.duplicated().sum()"
   ]
  },
  {
   "cell_type": "markdown",
   "id": "7e788c5e-c8c7-47e0-bcfb-02b30716d825",
   "metadata": {},
   "source": [
    "# Arange mark in acending order using \"sort_values()\" function"
   ]
  },
  {
   "cell_type": "code",
   "execution_count": 168,
   "id": "e4794179-4310-4c7a-a1d2-5f0fd0ba8b8c",
   "metadata": {},
   "outputs": [
    {
     "name": "stdout",
     "output_type": "stream",
     "text": [
      "sanyukt      35.000000\n",
      "atul         43.000000\n",
      "balaji       44.000000\n",
      "kunal        45.000000\n",
      "mira         51.000000\n",
      "riya         55.000000\n",
      "switi        56.000000\n",
      "ashwin       65.000000\n",
      "rahul        66.000000\n",
      "datta        67.000000\n",
      "kavita       67.111111\n",
      "ramkishan    69.000000\n",
      "ram          76.000000\n",
      "manohar      86.000000\n",
      "batti        87.000000\n",
      "sham         88.000000\n",
      "nanda        89.000000\n",
      "arjun        98.000000\n",
      "dtype: float64\n"
     ]
    }
   ],
   "source": [
    "print(df.sort_values())"
   ]
  },
  {
   "cell_type": "markdown",
   "id": "7e1e492a-215a-4444-a309-5fee9b84499c",
   "metadata": {},
   "source": [
    "# Aggeregate Function"
   ]
  },
  {
   "cell_type": "code",
   "execution_count": 169,
   "id": "7794fa21-d46b-46ea-9a11-6998e4207f83",
   "metadata": {},
   "outputs": [
    {
     "name": "stdout",
     "output_type": "stream",
     "text": [
      "18\n",
      "1187.111111111111\n",
      "35.0\n",
      "98.0\n",
      "[35.0, 43.0, 44.0, 45.0, 51.0, 55.0, 56.0, 65.0, 66.0, 67.0, 67.11111111111111, 69.0, 76.0, 86.0, 87.0, 88.0, 89.0, 98.0]\n"
     ]
    }
   ],
   "source": [
    "print(len(df))\n",
    "print(sum(df))\n",
    "print(min(df))\n",
    "print(max(df))\n",
    "print(sorted(df))"
   ]
  },
  {
   "cell_type": "code",
   "execution_count": 170,
   "id": "3bb4deb4-9b0d-4189-b531-f678afcc9137",
   "metadata": {},
   "outputs": [
    {
     "data": {
      "text/plain": [
       "array([66.        , 55.        , 88.        , 45.        , 76.        ,\n",
       "       98.        , 67.        , 87.        , 51.        , 89.        ,\n",
       "       56.        , 86.        , 43.        , 65.        , 44.        ,\n",
       "       67.11111111, 35.        , 69.        ])"
      ]
     },
     "execution_count": 170,
     "metadata": {},
     "output_type": "execute_result"
    }
   ],
   "source": [
    "df.unique()"
   ]
  },
  {
   "cell_type": "code",
   "execution_count": 171,
   "id": "99f99001-0887-43f2-8ab5-ba87823be98a",
   "metadata": {},
   "outputs": [
    {
     "data": {
      "text/plain": [
       "66.000000    1\n",
       "55.000000    1\n",
       "35.000000    1\n",
       "67.111111    1\n",
       "44.000000    1\n",
       "65.000000    1\n",
       "43.000000    1\n",
       "86.000000    1\n",
       "56.000000    1\n",
       "89.000000    1\n",
       "51.000000    1\n",
       "87.000000    1\n",
       "67.000000    1\n",
       "98.000000    1\n",
       "76.000000    1\n",
       "45.000000    1\n",
       "88.000000    1\n",
       "69.000000    1\n",
       "Name: count, dtype: int64"
      ]
     },
     "execution_count": 171,
     "metadata": {},
     "output_type": "execute_result"
    }
   ],
   "source": [
    "df.value_counts()"
   ]
  },
  {
   "cell_type": "code",
   "execution_count": null,
   "id": "eb530267-0236-4b71-b464-2b9841c859b2",
   "metadata": {},
   "outputs": [],
   "source": []
  }
 ],
 "metadata": {
  "kernelspec": {
   "display_name": "Python 3 (ipykernel)",
   "language": "python",
   "name": "python3"
  },
  "language_info": {
   "codemirror_mode": {
    "name": "ipython",
    "version": 3
   },
   "file_extension": ".py",
   "mimetype": "text/x-python",
   "name": "python",
   "nbconvert_exporter": "python",
   "pygments_lexer": "ipython3",
   "version": "3.12.3"
  }
 },
 "nbformat": 4,
 "nbformat_minor": 5
}
