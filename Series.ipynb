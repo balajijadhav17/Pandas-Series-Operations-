{
 "cells": [
  {
   "cell_type": "markdown",
   "id": "eab9bb19-9d38-4370-8c31-1f0377d7e8c6",
   "metadata": {},
   "source": [
    "# Introduction to Series in Pandas"
   ]
  },
  {
   "cell_type": "code",
   "execution_count": 1,
   "id": "cfe5ae76-378e-4a9e-9530-91657e25aac2",
   "metadata": {},
   "outputs": [],
   "source": [
    "import pandas as pd   # importing pandas library"
   ]
  },
  {
   "cell_type": "markdown",
   "id": "d307292f-d504-4da5-b073-231bbb533b74",
   "metadata": {},
   "source": [
    "# Creating a Series"
   ]
  },
  {
   "cell_type": "code",
   "execution_count": 2,
   "id": "abb664de-ba65-4c65-9cd1-059d0a2c9947",
   "metadata": {},
   "outputs": [
    {
     "name": "stdout",
     "output_type": "stream",
     "text": [
      "0    1\n",
      "1    2\n",
      "2    3\n",
      "3    4\n",
      "4    5\n",
      "5    6\n",
      "6    7\n",
      "dtype: int64\n"
     ]
    }
   ],
   "source": [
    "# Using list\n",
    "d1=[1,2,3,4,5,6,7]\n",
    "df=pd.Series(d1)\n",
    "print(df)  # access series"
   ]
  },
  {
   "cell_type": "code",
   "execution_count": 3,
   "id": "b10bd12d-fe33-4000-908f-5e076d27551a",
   "metadata": {},
   "outputs": [
    {
     "name": "stdout",
     "output_type": "stream",
     "text": [
      "a    11\n",
      "b    22\n",
      "c    33\n",
      "d    55\n",
      "dtype: int64\n"
     ]
    }
   ],
   "source": [
    "# Using Dictionary\n",
    "d2={\"a\":11,\"b\":22,\"c\":33,\"d\":55}\n",
    "df1=pd.Series(d2)\n",
    "print(df1) # access series"
   ]
  },
  {
   "cell_type": "code",
   "execution_count": 32,
   "id": "ac0e6170-9eff-45b5-9d58-d9fab8c1662c",
   "metadata": {},
   "outputs": [
    {
     "name": "stdout",
     "output_type": "stream",
     "text": [
      "rahul        66.0\n",
      "riya         55.0\n",
      "sham         88.0\n",
      "kunal        45.0\n",
      "ram          76.0\n",
      "arjun        98.0\n",
      "datta        67.0\n",
      "batti        87.0\n",
      "mira         51.0\n",
      "nanda        89.0\n",
      "switi        56.0\n",
      "manohar      86.0\n",
      "atul         43.0\n",
      "ashwin       65.0\n",
      "balaji       44.0\n",
      "kavita        NaN\n",
      "balaji       88.0\n",
      "kumar         NaN\n",
      "nayan         NaN\n",
      "praghya       NaN\n",
      "sanyukt      35.0\n",
      "ramkishan    69.0\n",
      "krishna       NaN\n",
      "Name: Student exam detail Mark and Name, dtype: float64\n",
      "Student exam detail Mark and Name\n"
     ]
    }
   ],
   "source": [
    "marks=[66,55,88,45,76,98,67,87,51,89,56,86,43,65,44,None,88,None,None,None,35,69,None]  \n",
    "name=[\"rahul\",\"riya\",\"sham\",\"kunal\",\"ram\",\n",
    "      \"arjun\",\"datta\",\"batti\",\"mira\",\"nanda\",\"switi\",\"manohar\",\"atul\",\"ashwin\",\"balaji\",\"kavita\",\"balaji\",\"kumar\",\n",
    "      \"nayan\",\"praghya\",\"sanyukt\",\"ramkishan\",\"krishna\"]\n",
    "df=pd.Series(marks,index=name)\n",
    "df.name=\"Student exam detail Mark and Name\"\n",
    "print(df)\n",
    "print(df.name) # name function is used to label the info about data\n",
    "# Note : \"None\" means null value or absent values"
   ]
  },
  {
   "cell_type": "code",
   "execution_count": 33,
   "id": "0d653387-8da7-4ffe-bfa0-c1178567ee85",
   "metadata": {},
   "outputs": [
    {
     "name": "stdout",
     "output_type": "stream",
     "text": [
      "rahul    66.0\n",
      "riya     55.0\n",
      "sham     88.0\n",
      "kunal    45.0\n",
      "ram      76.0\n",
      "Name: Student exam detail Mark and Name, dtype: float64\n",
      "\n",
      "nayan         NaN\n",
      "praghya       NaN\n",
      "sanyukt      35.0\n",
      "ramkishan    69.0\n",
      "krishna       NaN\n",
      "Name: Student exam detail Mark and Name, dtype: float64\n",
      "\n",
      "(23,)\n",
      "\n",
      "23\n",
      "\n",
      "False\n",
      "\n",
      "1\n"
     ]
    }
   ],
   "source": [
    "\"\"\" df.head(n): Returns the first n elements.\n",
    "df.tail(n): Returns the last n elements.\n",
    "df.shape: Returns the shape of the Series.\n",
    "df.size: Returns the number of elements in the Series.\n",
    "df.empty: Checks if the Series is empty.\n",
    "df.ndim: Returns the number of dimensions (always 1 for Series). \"\"\"\n",
    "print(df.head())\n",
    "print()\n",
    "print(df.tail())\n",
    "print()\n",
    "print(df.shape)\n",
    "print()\n",
    "print(df.size)\n",
    "print()\n",
    "print(df.empty)\n",
    "print()\n",
    "print(df.ndim)\n",
    "\n"
   ]
  },
  {
   "cell_type": "markdown",
   "id": "71eea08b-ab50-482b-8c56-0b0214d80cef",
   "metadata": {},
   "source": [
    "# Access the Series element using \"loc\" and \"iloc\" function"
   ]
  },
  {
   "cell_type": "code",
   "execution_count": 34,
   "id": "3c375b17-de2b-4940-90d9-40bf9ccb094c",
   "metadata": {},
   "outputs": [
    {
     "name": "stdout",
     "output_type": "stream",
     "text": [
      "76.0\n",
      "\n",
      "ram      76.0\n",
      "arjun    98.0\n",
      "datta    67.0\n",
      "batti    87.0\n",
      "mira     51.0\n",
      "nanda    89.0\n",
      "dtype: float64\n"
     ]
    }
   ],
   "source": [
    "# 1. loc access the element label  wise\n",
    "marks=[66,55,88,45,76,98,67,87,51,89,56,86,43,65,44,None,88,None,None,None,35,69,None]  \n",
    "name=[\"rahul\",\"riya\",\"sham\",\"kunal\",\"ram\",\n",
    "      \"arjun\",\"datta\",\"batti\",\"mira\",\"nanda\",\"switi\",\"manohar\",\"atul\",\"ashwin\",\"balaji\",\"kavita\",\"balaji\",\"kumar\",\n",
    "      \"nayan\",\"praghya\",\"sanyukt\",\"ramkishan\",\"krishna\"]\n",
    "df=pd.Series(marks,name)\n",
    "print(df.loc[\"ram\"]) # Access single element\n",
    "print()\n",
    "print(df.loc[\"ram\":\"nanda\"]) # Multiple element access Slicing\n",
    "\n"
   ]
  },
  {
   "cell_type": "code",
   "execution_count": 35,
   "id": "10c9d30c-d720-497f-af71-97506e79ac97",
   "metadata": {},
   "outputs": [
    {
     "name": "stdout",
     "output_type": "stream",
     "text": [
      "51.0\n",
      "\n",
      "datta    67.0\n",
      "batti    87.0\n",
      "mira     51.0\n",
      "dtype: float64\n"
     ]
    }
   ],
   "source": [
    "# 2. iloc acces the element position wise\n",
    "marks=[66,55,88,45,76,98,67,87,51,89,56,86,43,65,44,None,88,None,None,None,35,69,None]  \n",
    "name=[\"rahul\",\"riya\",\"sham\",\"kunal\",\"ram\",\n",
    "      \"arjun\",\"datta\",\"batti\",\"mira\",\"nanda\",\"switi\",\"manohar\",\"atul\",\"ashwin\",\"balaji\",\"kavita\",\"balaji\",\"kumar\",\n",
    "      \"nayan\",\"praghya\",\"sanyukt\",\"ramkishan\",\"krishna\"]\n",
    "df=pd.Series(marks,name)\n",
    "print(df.iloc[8]) # Access single element\n",
    "print()\n",
    "print(df.iloc[6:9]) # Multiple element access Slicing\n",
    "\n"
   ]
  },
  {
   "cell_type": "markdown",
   "id": "7de57e4f-a3ae-4bb1-a342-49fc5a17e72f",
   "metadata": {},
   "source": [
    "# Getting the Information about Series Using \"info()\" function"
   ]
  },
  {
   "cell_type": "code",
   "execution_count": 36,
   "id": "9af4f2af-0d74-4aa5-9705-47b720cff51c",
   "metadata": {},
   "outputs": [
    {
     "name": "stdout",
     "output_type": "stream",
     "text": [
      "<class 'pandas.core.series.Series'>\n",
      "Index: 23 entries, rahul to krishna\n",
      "Series name: None\n",
      "Non-Null Count  Dtype  \n",
      "--------------  -----  \n",
      "18 non-null     float64\n",
      "dtypes: float64(1)\n",
      "memory usage: 368.0+ bytes\n"
     ]
    }
   ],
   "source": [
    "df.info()"
   ]
  },
  {
   "cell_type": "markdown",
   "id": "dfb2565f-a544-42e1-9c2e-7ea329e06c54",
   "metadata": {},
   "source": [
    "# Getting the Statical info about Series Using \"describe()\" function"
   ]
  },
  {
   "cell_type": "code",
   "execution_count": 37,
   "id": "2c122faa-6de4-4e95-aa28-eba579e026f0",
   "metadata": {},
   "outputs": [
    {
     "data": {
      "text/plain": [
       "count    18.000000\n",
       "mean     67.111111\n",
       "std      19.268654\n",
       "min      35.000000\n",
       "25%      52.000000\n",
       "50%      66.500000\n",
       "75%      86.750000\n",
       "max      98.000000\n",
       "dtype: float64"
      ]
     },
     "execution_count": 37,
     "metadata": {},
     "output_type": "execute_result"
    }
   ],
   "source": [
    "df.describe()"
   ]
  },
  {
   "cell_type": "code",
   "execution_count": 38,
   "id": "5bef25e8-6368-427e-9da6-934cea6f62ba",
   "metadata": {},
   "outputs": [
    {
     "name": "stdout",
     "output_type": "stream",
     "text": [
      "float64\n",
      "\n",
      "[66. 55. 88. 45. 76. 98. 67. 87. 51. 89. 56. 86. 43. 65. 44. nan 88. nan\n",
      " nan nan 35. 69. nan]\n",
      "\n",
      "Index(['rahul', 'riya', 'sham', 'kunal', 'ram', 'arjun', 'datta', 'batti',\n",
      "       'mira', 'nanda', 'switi', 'manohar', 'atul', 'ashwin', 'balaji',\n",
      "       'kavita', 'balaji', 'kumar', 'nayan', 'praghya', 'sanyukt', 'ramkishan',\n",
      "       'krishna'],\n",
      "      dtype='object')\n"
     ]
    }
   ],
   "source": [
    "print(df.dtype)  # The index (labels) of the Series.\n",
    "print()\n",
    "print(df.values)  # The data (values) of the Series.\n",
    "print()\n",
    "print(df.index)  # The data type of the Series."
   ]
  },
  {
   "cell_type": "markdown",
   "id": "fcf2dd3a-0729-4167-ad4c-9ba0723edc23",
   "metadata": {},
   "source": [
    "# To check null or Nan value present in the Series Using \"isnull()\" function"
   ]
  },
  {
   "cell_type": "code",
   "execution_count": 39,
   "id": "fde8dd09-89c0-4a21-b998-c0bfcdbb4f90",
   "metadata": {},
   "outputs": [
    {
     "data": {
      "text/plain": [
       "5"
      ]
     },
     "execution_count": 39,
     "metadata": {},
     "output_type": "execute_result"
    }
   ],
   "source": [
    "df.isnull().sum() # This is return total sum of null values"
   ]
  },
  {
   "cell_type": "code",
   "execution_count": 40,
   "id": "1fad6e1c-70a8-4984-8867-73448623a36b",
   "metadata": {},
   "outputs": [
    {
     "data": {
      "text/plain": [
       "rahul        False\n",
       "riya         False\n",
       "sham         False\n",
       "kunal        False\n",
       "ram          False\n",
       "arjun        False\n",
       "datta        False\n",
       "batti        False\n",
       "mira         False\n",
       "nanda        False\n",
       "switi        False\n",
       "manohar      False\n",
       "atul         False\n",
       "ashwin       False\n",
       "balaji       False\n",
       "kavita        True\n",
       "balaji       False\n",
       "kumar         True\n",
       "nayan         True\n",
       "praghya       True\n",
       "sanyukt      False\n",
       "ramkishan    False\n",
       "krishna       True\n",
       "dtype: bool"
      ]
     },
     "execution_count": 40,
     "metadata": {},
     "output_type": "execute_result"
    }
   ],
   "source": [
    "df.isnull() # This is return true or false \"True\" means value is null or NaN And \"False\" means value is not null"
   ]
  },
  {
   "cell_type": "code",
   "execution_count": 41,
   "id": "2dc190f9-2abc-4805-9ce4-16a6950f4d75",
   "metadata": {},
   "outputs": [
    {
     "data": {
      "text/plain": [
       "kavita    NaN\n",
       "kumar     NaN\n",
       "nayan     NaN\n",
       "praghya   NaN\n",
       "krishna   NaN\n",
       "dtype: float64"
      ]
     },
     "execution_count": 41,
     "metadata": {},
     "output_type": "execute_result"
    }
   ],
   "source": [
    "# Now just print null or Nan rows the below is Nan rows\n",
    "df[df.isnull()]"
   ]
  },
  {
   "cell_type": "markdown",
   "id": "1300d366-b14c-49d5-9530-1ea5988b18e5",
   "metadata": {},
   "source": [
    "# Fill NaN or null Values"
   ]
  },
  {
   "cell_type": "code",
   "execution_count": 42,
   "id": "06192671-58c6-4133-8c68-ad3b3ca6a2fd",
   "metadata": {},
   "outputs": [],
   "source": [
    "\"\"\" 1. Fill with a Constant Value - df.fillna(0)\n",
    "    2. Forward Fill (method='ffill')\n",
    "    3. Backward Fill (method='bfill')\n",
    "    4. Fill Using Interpolation (method='interpolate')\n",
    "    5. Fill with a Value Dict or Series\n",
    "    6. Fill with Mean, Median, or Mode - df.fillna(df.mean())\n",
    "    7. Limiting the Number of Fills - filled = s.fillna(method='ffill', limit=1)\n",
    "    8. Fill in Place - df.fillna(0, inplace=True) \"\"\"\n",
    "df.fillna(df.mean(),inplace=True)"
   ]
  },
  {
   "cell_type": "code",
   "execution_count": 43,
   "id": "4db0e35a-2fb7-4693-9262-1155011d1f94",
   "metadata": {},
   "outputs": [
    {
     "data": {
      "text/plain": [
       "0"
      ]
     },
     "execution_count": 43,
     "metadata": {},
     "output_type": "execute_result"
    }
   ],
   "source": [
    "# After filling now check the NaN value show O Zero\n",
    "df.isnull().sum()"
   ]
  },
  {
   "cell_type": "markdown",
   "id": "9776242e-bb6e-4d80-bc8a-3a117669ce63",
   "metadata": {},
   "source": [
    "# To check duplicate rows  present in the Series Using \"duplicated()\" function"
   ]
  },
  {
   "cell_type": "code",
   "execution_count": 44,
   "id": "80760dd8-d388-4a38-9cbd-ca50bc97da20",
   "metadata": {},
   "outputs": [
    {
     "data": {
      "text/plain": [
       "5"
      ]
     },
     "execution_count": 44,
     "metadata": {},
     "output_type": "execute_result"
    }
   ],
   "source": [
    "df.duplicated().sum() # This is return total sum of duplicated rows"
   ]
  },
  {
   "cell_type": "code",
   "execution_count": 45,
   "id": "0b01a941-8843-4a72-b628-2301956b25d1",
   "metadata": {},
   "outputs": [
    {
     "data": {
      "text/plain": [
       "rahul        False\n",
       "riya         False\n",
       "sham         False\n",
       "kunal        False\n",
       "ram          False\n",
       "arjun        False\n",
       "datta        False\n",
       "batti        False\n",
       "mira         False\n",
       "nanda        False\n",
       "switi        False\n",
       "manohar      False\n",
       "atul         False\n",
       "ashwin       False\n",
       "balaji       False\n",
       "kavita       False\n",
       "balaji        True\n",
       "kumar         True\n",
       "nayan         True\n",
       "praghya       True\n",
       "sanyukt      False\n",
       "ramkishan    False\n",
       "krishna       True\n",
       "dtype: bool"
      ]
     },
     "execution_count": 45,
     "metadata": {},
     "output_type": "execute_result"
    }
   ],
   "source": [
    "df.duplicated() # This is return true or false \"True\" means row is duplicated And \"False\" means row is not duplicated "
   ]
  },
  {
   "cell_type": "code",
   "execution_count": 46,
   "id": "5f3a9703-9a0a-49f3-b307-bcbfa23a53b1",
   "metadata": {},
   "outputs": [
    {
     "name": "stdout",
     "output_type": "stream",
     "text": [
      "balaji     88.000000\n",
      "kumar      67.111111\n",
      "nayan      67.111111\n",
      "praghya    67.111111\n",
      "krishna    67.111111\n",
      "dtype: float64\n"
     ]
    }
   ],
   "source": [
    "# Now just print duplicated rows the below row is duplicated rows\n",
    "print(df[df.duplicated()])"
   ]
  },
  {
   "cell_type": "markdown",
   "id": "1f321f04-a6ac-490b-bc76-dab3a10f2de8",
   "metadata": {},
   "source": [
    "# Drop Duplicated rows using \"drop_duplicates()\""
   ]
  },
  {
   "cell_type": "code",
   "execution_count": 47,
   "id": "197be520-36d8-49a4-bc05-717eb794b756",
   "metadata": {},
   "outputs": [],
   "source": [
    "df.drop_duplicates(inplace=True)"
   ]
  },
  {
   "cell_type": "code",
   "execution_count": 48,
   "id": "35ba3f39-8b61-40e9-8319-407c38252ff1",
   "metadata": {},
   "outputs": [
    {
     "data": {
      "text/plain": [
       "0"
      ]
     },
     "execution_count": 48,
     "metadata": {},
     "output_type": "execute_result"
    }
   ],
   "source": [
    "# now check after cdropping duplicates now aslo show Zero\n",
    "df.duplicated().sum()"
   ]
  },
  {
   "cell_type": "markdown",
   "id": "7e788c5e-c8c7-47e0-bcfb-02b30716d825",
   "metadata": {},
   "source": [
    "# Arange mark in acending order using \"sort_values()\" function"
   ]
  },
  {
   "cell_type": "code",
   "execution_count": 49,
   "id": "e4794179-4310-4c7a-a1d2-5f0fd0ba8b8c",
   "metadata": {},
   "outputs": [
    {
     "name": "stdout",
     "output_type": "stream",
     "text": [
      "sanyukt      35.000000\n",
      "atul         43.000000\n",
      "balaji       44.000000\n",
      "kunal        45.000000\n",
      "mira         51.000000\n",
      "riya         55.000000\n",
      "switi        56.000000\n",
      "ashwin       65.000000\n",
      "rahul        66.000000\n",
      "datta        67.000000\n",
      "kavita       67.111111\n",
      "ramkishan    69.000000\n",
      "ram          76.000000\n",
      "manohar      86.000000\n",
      "batti        87.000000\n",
      "sham         88.000000\n",
      "nanda        89.000000\n",
      "arjun        98.000000\n",
      "dtype: float64\n"
     ]
    }
   ],
   "source": [
    "print(df.sort_values())"
   ]
  },
  {
   "cell_type": "markdown",
   "id": "7e1e492a-215a-4444-a309-5fee9b84499c",
   "metadata": {},
   "source": [
    "# Aggeregate Function"
   ]
  },
  {
   "cell_type": "code",
   "execution_count": 50,
   "id": "7794fa21-d46b-46ea-9a11-6998e4207f83",
   "metadata": {},
   "outputs": [
    {
     "name": "stdout",
     "output_type": "stream",
     "text": [
      "18\n",
      "1187.111111111111\n",
      "35.0\n",
      "98.0\n",
      "[35.0, 43.0, 44.0, 45.0, 51.0, 55.0, 56.0, 65.0, 66.0, 67.0, 67.11111111111111, 69.0, 76.0, 86.0, 87.0, 88.0, 89.0, 98.0]\n"
     ]
    }
   ],
   "source": [
    "print(len(df))\n",
    "print(sum(df))\n",
    "print(min(df))\n",
    "print(max(df))\n",
    "print(sorted(df))"
   ]
  },
  {
   "cell_type": "code",
   "execution_count": 51,
   "id": "3bb4deb4-9b0d-4189-b531-f678afcc9137",
   "metadata": {},
   "outputs": [
    {
     "data": {
      "text/plain": [
       "array([66.        , 55.        , 88.        , 45.        , 76.        ,\n",
       "       98.        , 67.        , 87.        , 51.        , 89.        ,\n",
       "       56.        , 86.        , 43.        , 65.        , 44.        ,\n",
       "       67.11111111, 35.        , 69.        ])"
      ]
     },
     "execution_count": 51,
     "metadata": {},
     "output_type": "execute_result"
    }
   ],
   "source": [
    "df.unique()"
   ]
  },
  {
   "cell_type": "code",
   "execution_count": 52,
   "id": "80c1eb5e-6dff-4c3f-bc31-387b73f37c77",
   "metadata": {},
   "outputs": [
    {
     "data": {
      "text/plain": [
       "18"
      ]
     },
     "execution_count": 52,
     "metadata": {},
     "output_type": "execute_result"
    }
   ],
   "source": [
    "df.nunique()"
   ]
  },
  {
   "cell_type": "code",
   "execution_count": 53,
   "id": "99f99001-0887-43f2-8ab5-ba87823be98a",
   "metadata": {},
   "outputs": [
    {
     "data": {
      "text/plain": [
       "66.000000    1\n",
       "55.000000    1\n",
       "35.000000    1\n",
       "67.111111    1\n",
       "44.000000    1\n",
       "65.000000    1\n",
       "43.000000    1\n",
       "86.000000    1\n",
       "56.000000    1\n",
       "89.000000    1\n",
       "51.000000    1\n",
       "87.000000    1\n",
       "67.000000    1\n",
       "98.000000    1\n",
       "76.000000    1\n",
       "45.000000    1\n",
       "88.000000    1\n",
       "69.000000    1\n",
       "Name: count, dtype: int64"
      ]
     },
     "execution_count": 53,
     "metadata": {},
     "output_type": "execute_result"
    }
   ],
   "source": [
    "df.value_counts()"
   ]
  },
  {
   "cell_type": "code",
   "execution_count": 54,
   "id": "eb530267-0236-4b71-b464-2b9841c859b2",
   "metadata": {},
   "outputs": [
    {
     "data": {
      "text/plain": [
       "rahul    66.0\n",
       "riya     55.0\n",
       "sham     88.0\n",
       "kunal    45.0\n",
       "ram      76.0\n",
       "dtype: float64"
      ]
     },
     "execution_count": 54,
     "metadata": {},
     "output_type": "execute_result"
    }
   ],
   "source": [
    "df.head()"
   ]
  },
  {
   "cell_type": "markdown",
   "id": "ec839ac7-5717-492c-be6f-c70a97d0a8c3",
   "metadata": {},
   "source": [
    "# String operation on Series"
   ]
  },
  {
   "cell_type": "code",
   "execution_count": null,
   "id": "cfc208b0-b256-4400-8293-ca7a4aee5263",
   "metadata": {},
   "outputs": [],
   "source": [
    "# Note: String function you can apply noly on character,letter,senencses etc."
   ]
  },
  {
   "cell_type": "code",
   "execution_count": 55,
   "id": "2a3dd498-ed6d-4431-90bd-de439b2b966e",
   "metadata": {},
   "outputs": [],
   "source": [
    "s=pd.Series(df.index)"
   ]
  },
  {
   "cell_type": "code",
   "execution_count": 56,
   "id": "b44a0901-bd6d-4613-a185-4a949b1b9c9b",
   "metadata": {},
   "outputs": [
    {
     "data": {
      "text/plain": [
       "0         RAHUL\n",
       "1          RIYA\n",
       "2          SHAM\n",
       "3         KUNAL\n",
       "4           RAM\n",
       "5         ARJUN\n",
       "6         DATTA\n",
       "7         BATTI\n",
       "8          MIRA\n",
       "9         NANDA\n",
       "10        SWITI\n",
       "11      MANOHAR\n",
       "12         ATUL\n",
       "13       ASHWIN\n",
       "14       BALAJI\n",
       "15       KAVITA\n",
       "16      SANYUKT\n",
       "17    RAMKISHAN\n",
       "dtype: object"
      ]
     },
     "execution_count": 56,
     "metadata": {},
     "output_type": "execute_result"
    }
   ],
   "source": [
    "s.str.upper()"
   ]
  },
  {
   "cell_type": "code",
   "execution_count": 66,
   "id": "cfd19177-1c15-414e-a9ea-2fe9ceba53ae",
   "metadata": {},
   "outputs": [
    {
     "data": {
      "text/plain": [
       "0         rahul\n",
       "1          riya\n",
       "2          sham\n",
       "3         kunal\n",
       "4           ram\n",
       "5         arjun\n",
       "6         datta\n",
       "7         batti\n",
       "8          mira\n",
       "9         nanda\n",
       "10        switi\n",
       "11      manohar\n",
       "12         atul\n",
       "13       ashwin\n",
       "14       balaji\n",
       "15       kavita\n",
       "16    sanyuktaa\n",
       "17    ramkishan\n",
       "dtype: object"
      ]
     },
     "execution_count": 66,
     "metadata": {},
     "output_type": "execute_result"
    }
   ],
   "source": [
    "s=s.str.replace(\"sanyukt\",\"sanyukta\",case=False)\n",
    "s"
   ]
  },
  {
   "cell_type": "code",
   "execution_count": 67,
   "id": "a261ffae-af9e-40b0-8f85-8e6fa997cc0d",
   "metadata": {},
   "outputs": [
    {
     "data": {
      "text/plain": [
       "0     5\n",
       "1     4\n",
       "2     4\n",
       "3     5\n",
       "4     3\n",
       "5     5\n",
       "6     5\n",
       "7     5\n",
       "8     4\n",
       "9     5\n",
       "10    5\n",
       "11    7\n",
       "12    4\n",
       "13    6\n",
       "14    6\n",
       "15    6\n",
       "16    9\n",
       "17    9\n",
       "dtype: int64"
      ]
     },
     "execution_count": 67,
     "metadata": {},
     "output_type": "execute_result"
    }
   ],
   "source": [
    "s.str.len()"
   ]
  },
  {
   "cell_type": "code",
   "execution_count": 68,
   "id": "cc6aa731-24b7-4f22-b837-619b302a4ae6",
   "metadata": {},
   "outputs": [
    {
     "data": {
      "text/plain": [
       "0     False\n",
       "1     False\n",
       "2     False\n",
       "3     False\n",
       "4     False\n",
       "5     False\n",
       "6     False\n",
       "7     False\n",
       "8     False\n",
       "9     False\n",
       "10    False\n",
       "11    False\n",
       "12    False\n",
       "13    False\n",
       "14    False\n",
       "15    False\n",
       "16    False\n",
       "17     True\n",
       "dtype: bool"
      ]
     },
     "execution_count": 68,
     "metadata": {},
     "output_type": "execute_result"
    }
   ],
   "source": [
    "s.str.contains(\"ramkishan\")"
   ]
  },
  {
   "cell_type": "code",
   "execution_count": 71,
   "id": "c92fc2d7-b00c-4f69-9ab8-404939219017",
   "metadata": {},
   "outputs": [
    {
     "data": {
      "text/plain": [
       "0         rahul\n",
       "1          riya\n",
       "2          sham\n",
       "3         kunal\n",
       "4           ram\n",
       "5         arjun\n",
       "6         datta\n",
       "7         batti\n",
       "8          mira\n",
       "9         nanda\n",
       "10        switi\n",
       "11      manohar\n",
       "12         atul\n",
       "13       ashwin\n",
       "14       balaji\n",
       "15       kavita\n",
       "16    sanyuktaa\n",
       "17    ramkishan\n",
       "dtype: object"
      ]
     },
     "execution_count": 71,
     "metadata": {},
     "output_type": "execute_result"
    }
   ],
   "source": [
    "s.str.lower()"
   ]
  },
  {
   "cell_type": "code",
   "execution_count": 72,
   "id": "2d8e0167-1101-49ff-b130-72a965e25778",
   "metadata": {},
   "outputs": [
    {
     "data": {
      "text/plain": [
       "0           [r, hul]\n",
       "1            [riy, ]\n",
       "2            [sh, m]\n",
       "3           [kun, l]\n",
       "4             [r, m]\n",
       "5           [, rjun]\n",
       "6          [d, tt, ]\n",
       "7           [b, tti]\n",
       "8            [mir, ]\n",
       "9          [n, nd, ]\n",
       "10           [switi]\n",
       "11       [m, noh, r]\n",
       "12           [, tul]\n",
       "13         [, shwin]\n",
       "14        [b, l, ji]\n",
       "15        [k, vit, ]\n",
       "16    [s, nyukt, , ]\n",
       "17     [r, mkish, n]\n",
       "dtype: object"
      ]
     },
     "execution_count": 72,
     "metadata": {},
     "output_type": "execute_result"
    }
   ],
   "source": [
    "s.str.split(\"a\")"
   ]
  },
  {
   "cell_type": "markdown",
   "id": "b45116c6-af15-4a23-9fa5-b35157c7c4b1",
   "metadata": {},
   "source": [
    "# Statistical Functions"
   ]
  },
  {
   "cell_type": "code",
   "execution_count": 73,
   "id": "46edef03-9063-4c0f-b8c6-36bff1db71c1",
   "metadata": {},
   "outputs": [
    {
     "data": {
      "text/plain": [
       "1187.111111111111"
      ]
     },
     "execution_count": 73,
     "metadata": {},
     "output_type": "execute_result"
    }
   ],
   "source": [
    "df.sum()"
   ]
  },
  {
   "cell_type": "code",
   "execution_count": 74,
   "id": "172d94e3-06c7-4350-8440-50435b0b310c",
   "metadata": {},
   "outputs": [
    {
     "data": {
      "text/plain": [
       "65.95061728395062"
      ]
     },
     "execution_count": 74,
     "metadata": {},
     "output_type": "execute_result"
    }
   ],
   "source": [
    "df.mean()"
   ]
  },
  {
   "cell_type": "code",
   "execution_count": 75,
   "id": "e89911e2-5e32-452f-8171-86e4c283caf8",
   "metadata": {},
   "outputs": [
    {
     "data": {
      "text/plain": [
       "66.5"
      ]
     },
     "execution_count": 75,
     "metadata": {},
     "output_type": "execute_result"
    }
   ],
   "source": [
    "df.median()"
   ]
  },
  {
   "cell_type": "code",
   "execution_count": 76,
   "id": "fd08effb-6b00-4551-9066-485928673457",
   "metadata": {},
   "outputs": [
    {
     "data": {
      "text/plain": [
       "18.552295992606215"
      ]
     },
     "execution_count": 76,
     "metadata": {},
     "output_type": "execute_result"
    }
   ],
   "source": [
    "df.std()"
   ]
  },
  {
   "cell_type": "code",
   "execution_count": 77,
   "id": "edac6d5f-e3a7-4db0-92cf-f0abb8846a34",
   "metadata": {},
   "outputs": [
    {
     "data": {
      "text/plain": [
       "344.18768659727266"
      ]
     },
     "execution_count": 77,
     "metadata": {},
     "output_type": "execute_result"
    }
   ],
   "source": [
    "df.var()"
   ]
  },
  {
   "cell_type": "code",
   "execution_count": 78,
   "id": "1c245e04-e57f-4dc6-9419-9e9b2ddf25cd",
   "metadata": {},
   "outputs": [
    {
     "data": {
      "text/plain": [
       "0     35.000000\n",
       "1     43.000000\n",
       "2     44.000000\n",
       "3     45.000000\n",
       "4     51.000000\n",
       "5     55.000000\n",
       "6     56.000000\n",
       "7     65.000000\n",
       "8     66.000000\n",
       "9     67.000000\n",
       "10    67.111111\n",
       "11    69.000000\n",
       "12    76.000000\n",
       "13    86.000000\n",
       "14    87.000000\n",
       "15    88.000000\n",
       "16    89.000000\n",
       "17    98.000000\n",
       "dtype: float64"
      ]
     },
     "execution_count": 78,
     "metadata": {},
     "output_type": "execute_result"
    }
   ],
   "source": [
    "df.mode()"
   ]
  },
  {
   "cell_type": "code",
   "execution_count": 80,
   "id": "d2c3c258-dd67-407d-9cc5-d60170012855",
   "metadata": {},
   "outputs": [
    {
     "data": {
      "text/plain": [
       "rahul          66.000000\n",
       "riya          121.000000\n",
       "sham          209.000000\n",
       "kunal         254.000000\n",
       "ram           330.000000\n",
       "arjun         428.000000\n",
       "datta         495.000000\n",
       "batti         582.000000\n",
       "mira          633.000000\n",
       "nanda         722.000000\n",
       "switi         778.000000\n",
       "manohar       864.000000\n",
       "atul          907.000000\n",
       "ashwin        972.000000\n",
       "balaji       1016.000000\n",
       "kavita       1083.111111\n",
       "sanyukt      1118.111111\n",
       "ramkishan    1187.111111\n",
       "dtype: float64"
      ]
     },
     "execution_count": 80,
     "metadata": {},
     "output_type": "execute_result"
    }
   ],
   "source": [
    "df.cumsum()"
   ]
  },
  {
   "cell_type": "code",
   "execution_count": 82,
   "id": "5b9d5f74-f167-4887-bae5-874cc5ae3b4b",
   "metadata": {},
   "outputs": [
    {
     "data": {
      "text/plain": [
       "rahul        6.600000e+01\n",
       "riya         3.630000e+03\n",
       "sham         3.194400e+05\n",
       "kunal        1.437480e+07\n",
       "ram          1.092485e+09\n",
       "arjun        1.070635e+11\n",
       "datta        7.173255e+12\n",
       "batti        6.240732e+14\n",
       "mira         3.182773e+16\n",
       "nanda        2.832668e+18\n",
       "switi        1.586294e+20\n",
       "manohar      1.364213e+22\n",
       "atul         5.866116e+23\n",
       "ashwin       3.812975e+25\n",
       "balaji       1.677709e+27\n",
       "kavita       1.125929e+29\n",
       "sanyukt      3.940752e+30\n",
       "ramkishan    2.719119e+32\n",
       "dtype: float64"
      ]
     },
     "execution_count": 82,
     "metadata": {},
     "output_type": "execute_result"
    }
   ],
   "source": [
    "df.cumprod()"
   ]
  },
  {
   "cell_type": "code",
   "execution_count": 83,
   "id": "a116d460-3e22-4ba6-8e12-03f68e151062",
   "metadata": {},
   "outputs": [
    {
     "data": {
      "text/plain": [
       "35.0"
      ]
     },
     "execution_count": 83,
     "metadata": {},
     "output_type": "execute_result"
    }
   ],
   "source": [
    "df.min()"
   ]
  },
  {
   "cell_type": "code",
   "execution_count": 84,
   "id": "4c647e19-603c-46fe-921a-2bbc28de534a",
   "metadata": {},
   "outputs": [
    {
     "data": {
      "text/plain": [
       "98.0"
      ]
     },
     "execution_count": 84,
     "metadata": {},
     "output_type": "execute_result"
    }
   ],
   "source": [
    "df.max()"
   ]
  },
  {
   "cell_type": "code",
   "execution_count": 85,
   "id": "bcbd137c-e5bc-4a84-855c-f9b3f22dc2cb",
   "metadata": {},
   "outputs": [
    {
     "data": {
      "text/plain": [
       "'arjun'"
      ]
     },
     "execution_count": 85,
     "metadata": {},
     "output_type": "execute_result"
    }
   ],
   "source": [
    "df.idxmax()"
   ]
  },
  {
   "cell_type": "code",
   "execution_count": 87,
   "id": "3159478c-6b25-435c-a4b6-48dd07c62a92",
   "metadata": {},
   "outputs": [
    {
     "data": {
      "text/plain": [
       "'sanyukt'"
      ]
     },
     "execution_count": 87,
     "metadata": {},
     "output_type": "execute_result"
    }
   ],
   "source": [
    "df.idxmin()"
   ]
  },
  {
   "cell_type": "code",
   "execution_count": 88,
   "id": "065177a8-1fe5-4850-a8ce-f2e04b7c1dc5",
   "metadata": {},
   "outputs": [
    {
     "data": {
      "text/plain": [
       "rahul        66.0\n",
       "riya         66.0\n",
       "sham         88.0\n",
       "kunal        88.0\n",
       "ram          88.0\n",
       "arjun        98.0\n",
       "datta        98.0\n",
       "batti        98.0\n",
       "mira         98.0\n",
       "nanda        98.0\n",
       "switi        98.0\n",
       "manohar      98.0\n",
       "atul         98.0\n",
       "ashwin       98.0\n",
       "balaji       98.0\n",
       "kavita       98.0\n",
       "sanyukt      98.0\n",
       "ramkishan    98.0\n",
       "dtype: float64"
      ]
     },
     "execution_count": 88,
     "metadata": {},
     "output_type": "execute_result"
    }
   ],
   "source": [
    "df.cummax()"
   ]
  },
  {
   "cell_type": "code",
   "execution_count": 89,
   "id": "700fb53a-9caf-47e3-9a40-067d8832588c",
   "metadata": {},
   "outputs": [
    {
     "data": {
      "text/plain": [
       "rahul        66.0\n",
       "riya         55.0\n",
       "sham         55.0\n",
       "kunal        45.0\n",
       "ram          45.0\n",
       "arjun        45.0\n",
       "datta        45.0\n",
       "batti        45.0\n",
       "mira         45.0\n",
       "nanda        45.0\n",
       "switi        45.0\n",
       "manohar      45.0\n",
       "atul         43.0\n",
       "ashwin       43.0\n",
       "balaji       43.0\n",
       "kavita       43.0\n",
       "sanyukt      35.0\n",
       "ramkishan    35.0\n",
       "dtype: float64"
      ]
     },
     "execution_count": 89,
     "metadata": {},
     "output_type": "execute_result"
    }
   ],
   "source": [
    "df.cummin()"
   ]
  },
  {
   "cell_type": "code",
   "execution_count": 90,
   "id": "8253df88-12e5-47c6-a83c-6efb88686d94",
   "metadata": {},
   "outputs": [
    {
     "data": {
      "text/plain": [
       "rahul        66.000000\n",
       "riya         55.000000\n",
       "sham         88.000000\n",
       "ram          76.000000\n",
       "arjun        98.000000\n",
       "datta        67.000000\n",
       "batti        87.000000\n",
       "mira         51.000000\n",
       "nanda        89.000000\n",
       "switi        56.000000\n",
       "manohar      86.000000\n",
       "ashwin       65.000000\n",
       "kavita       67.111111\n",
       "ramkishan    69.000000\n",
       "dtype: float64"
      ]
     },
     "execution_count": 90,
     "metadata": {},
     "output_type": "execute_result"
    }
   ],
   "source": [
    "df[df>50]"
   ]
  },
  {
   "cell_type": "code",
   "execution_count": 91,
   "id": "6ed3a2d4-2350-45d0-95bf-d1f4062c8458",
   "metadata": {},
   "outputs": [
    {
     "data": {
      "text/plain": [
       "kunal      45.0\n",
       "atul       43.0\n",
       "balaji     44.0\n",
       "sanyukt    35.0\n",
       "dtype: float64"
      ]
     },
     "execution_count": 91,
     "metadata": {},
     "output_type": "execute_result"
    }
   ],
   "source": [
    "df[df<50]"
   ]
  },
  {
   "cell_type": "code",
   "execution_count": 92,
   "id": "161fc366-5eac-43f9-a0b9-ae5eba07e4d5",
   "metadata": {},
   "outputs": [
    {
     "data": {
      "text/plain": [
       "rahul    66.0\n",
       "dtype: float64"
      ]
     },
     "execution_count": 92,
     "metadata": {},
     "output_type": "execute_result"
    }
   ],
   "source": [
    "df[df==66]"
   ]
  },
  {
   "cell_type": "code",
   "execution_count": 93,
   "id": "d0c9ff16-4d59-48db-82d7-6a780da5cdb7",
   "metadata": {},
   "outputs": [
    {
     "data": {
      "text/plain": [
       "arjun        98.000000\n",
       "ashwin       65.000000\n",
       "atul         43.000000\n",
       "balaji       44.000000\n",
       "batti        87.000000\n",
       "datta        67.000000\n",
       "kavita       67.111111\n",
       "kunal        45.000000\n",
       "manohar      86.000000\n",
       "mira         51.000000\n",
       "nanda        89.000000\n",
       "rahul        66.000000\n",
       "ram          76.000000\n",
       "ramkishan    69.000000\n",
       "riya         55.000000\n",
       "sanyukt      35.000000\n",
       "sham         88.000000\n",
       "switi        56.000000\n",
       "dtype: float64"
      ]
     },
     "execution_count": 93,
     "metadata": {},
     "output_type": "execute_result"
    }
   ],
   "source": [
    "df.sort_index()"
   ]
  },
  {
   "cell_type": "markdown",
   "id": "107cb949-03de-4dbc-b2d1-068266d85608",
   "metadata": {},
   "source": [
    "# Plotting in Pandas"
   ]
  },
  {
   "cell_type": "code",
   "execution_count": 101,
   "id": "45e65a55-5a9a-4607-a3f8-7bdde4a08ff1",
   "metadata": {},
   "outputs": [
    {
     "data": {
      "text/plain": [
       "<Axes: title={'center': 'Line plot of Series'}>"
      ]
     },
     "execution_count": 101,
     "metadata": {},
     "output_type": "execute_result"
    },
    {
     "data": {
      "image/png": "[encoded data removed]",
      "text/plain": [
       "<Figure size 640x480 with 1 Axes>"
      ]
     },
     "metadata": {},
     "output_type": "display_data"
    }
   ],
   "source": [
    "df.plot(kind=\"line\",title=\"Line plot of Series\")"
   ]
  },
  {
   "cell_type": "code",
   "execution_count": 97,
   "id": "7ce90589-5214-4480-b719-9747401cbafc",
   "metadata": {},
   "outputs": [
    {
     "data": {
      "text/plain": [
       "<Axes: title={'center': 'Bar Plot of Series'}>"
      ]
     },
     "execution_count": 97,
     "metadata": {},
     "output_type": "execute_result"
    },
    {
     "data": {
      "image/png": "[encoded data removed]",
      "text/plain": [
       "<Figure size 640x480 with 1 Axes>"
      ]
     },
     "metadata": {},
     "output_type": "display_data"
    }
   ],
   "source": [
    "df.plot(kind=\"bar\",title=\"Bar Plot of Series\",color=\"pink\")"
   ]
  },
  {
   "cell_type": "code",
   "execution_count": 107,
   "id": "299a4054-dafb-4b10-afc3-71e9c4c2ac34",
   "metadata": {},
   "outputs": [
    {
     "data": {
      "text/plain": [
       "<Axes: title={'center': 'Horizontal bar plot of Series'}>"
      ]
     },
     "execution_count": 107,
     "metadata": {},
     "output_type": "execute_result"
    },
    {
     "data": {
      "image/png": "[encoded data removed]",
      "text/plain": [
       "<Figure size 640x480 with 1 Axes>"
      ]
     },
     "metadata": {},
     "output_type": "display_data"
    }
   ],
   "source": [
    "df.plot(kind=\"barh\",title=\"Horizontal bar plot of Series\",color=\"green\")"
   ]
  },
  {
   "cell_type": "code",
   "execution_count": 105,
   "id": "d6065d2a-56d0-4830-837a-7c919b71b130",
   "metadata": {},
   "outputs": [
    {
     "data": {
      "text/plain": [
       "<Axes: title={'center': 'Pie Chart of Series'}>"
      ]
     },
     "execution_count": 105,
     "metadata": {},
     "output_type": "execute_result"
    },
    {
     "data": {
      "image/png": "[encoded data removed]",
      "text/plain": [
       "<Figure size 640x480 with 1 Axes>"
      ]
     },
     "metadata": {},
     "output_type": "display_data"
    }
   ],
   "source": [
    "df.plot(kind=\"pie\",autopct=\"%1.0f%%\",title=\"Pie Chart of Series\")"
   ]
  },
  {
   "cell_type": "code",
   "execution_count": 104,
   "id": "ba81475a-c645-4658-97f6-91d859cf2c4c",
   "metadata": {},
   "outputs": [
    {
     "ename": "ValueError",
     "evalue": "plot kind scatter can only be used for data frames",
     "output_type": "error",
     "traceback": [
      "\u001b[1;31m---------------------------------------------------------------------------\u001b[0m",
      "\u001b[1;31mValueError\u001b[0m                                Traceback (most recent call last)",
      "Cell \u001b[1;32mIn[104], line 1\u001b[0m\n\u001b[1;32m----> 1\u001b[0m \u001b[43mdf\u001b[49m\u001b[38;5;241;43m.\u001b[39;49m\u001b[43mplot\u001b[49m\u001b[43m(\u001b[49m\u001b[43mkind\u001b[49m\u001b[38;5;241;43m=\u001b[39;49m\u001b[38;5;124;43m\"\u001b[39;49m\u001b[38;5;124;43mscatter\u001b[39;49m\u001b[38;5;124;43m\"\u001b[39;49m\u001b[43m,\u001b[49m\u001b[43mcolor\u001b[49m\u001b[38;5;241;43m=\u001b[39;49m\u001b[38;5;124;43m\"\u001b[39;49m\u001b[38;5;124;43mgreen\u001b[39;49m\u001b[38;5;124;43m\"\u001b[39;49m\u001b[43m)\u001b[49m\n",
      "File \u001b[1;32m~\\AppData\\Local\\Programs\\Python\\Python312\\Lib\\site-packages\\pandas\\plotting\\_core.py:977\u001b[0m, in \u001b[0;36mPlotAccessor.__call__\u001b[1;34m(self, *args, **kwargs)\u001b[0m\n\u001b[0;32m    975\u001b[0m         \u001b[38;5;28;01mreturn\u001b[39;00m plot_backend\u001b[38;5;241m.\u001b[39mplot(data, x\u001b[38;5;241m=\u001b[39mx, y\u001b[38;5;241m=\u001b[39my, kind\u001b[38;5;241m=\u001b[39mkind, \u001b[38;5;241m*\u001b[39m\u001b[38;5;241m*\u001b[39mkwargs)\n\u001b[0;32m    976\u001b[0m     \u001b[38;5;28;01melse\u001b[39;00m:\n\u001b[1;32m--> 977\u001b[0m         \u001b[38;5;28;01mraise\u001b[39;00m \u001b[38;5;167;01mValueError\u001b[39;00m(\u001b[38;5;124mf\u001b[39m\u001b[38;5;124m\"\u001b[39m\u001b[38;5;124mplot kind \u001b[39m\u001b[38;5;132;01m{\u001b[39;00mkind\u001b[38;5;132;01m}\u001b[39;00m\u001b[38;5;124m can only be used for data frames\u001b[39m\u001b[38;5;124m\"\u001b[39m)\n\u001b[0;32m    978\u001b[0m \u001b[38;5;28;01melif\u001b[39;00m kind \u001b[38;5;129;01min\u001b[39;00m \u001b[38;5;28mself\u001b[39m\u001b[38;5;241m.\u001b[39m_series_kinds:\n\u001b[0;32m    979\u001b[0m     \u001b[38;5;28;01mif\u001b[39;00m \u001b[38;5;28misinstance\u001b[39m(data, ABCDataFrame):\n",
      "\u001b[1;31mValueError\u001b[0m: plot kind scatter can only be used for data frames"
     ]
    }
   ],
   "source": []
  }
 ],
 "metadata": {
  "kernelspec": {
   "display_name": "Python 3 (ipykernel)",
   "language": "python",
   "name": "python3"
  },
  "language_info": {
   "codemirror_mode": {
    "name": "ipython",
    "version": 3
   },
   "file_extension": ".py",
   "mimetype": "text/x-python",
   "name": "python",
   "nbconvert_exporter": "python",
   "pygments_lexer": "ipython3",
   "version": "3.12.3"
  }
 },
 "nbformat": 4,
 "nbformat_minor": 5
}
